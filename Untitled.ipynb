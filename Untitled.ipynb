{
 "cells": [
  {
   "cell_type": "code",
   "execution_count": 49,
   "id": "e69927bf",
   "metadata": {},
   "outputs": [],
   "source": [
    "import pandas as pd\n"
   ]
  },
  {
   "cell_type": "code",
   "execution_count": 50,
   "id": "9ff5643b",
   "metadata": {},
   "outputs": [],
   "source": [
    "import numpy as np"
   ]
  },
  {
   "cell_type": "code",
   "execution_count": 51,
   "id": "19860769",
   "metadata": {},
   "outputs": [],
   "source": [
    "df = pd.read_csv('main_data.csv')"
   ]
  },
  {
   "cell_type": "code",
   "execution_count": 52,
   "id": "035ca76b",
   "metadata": {},
   "outputs": [
    {
     "data": {
      "text/html": [
       "<div>\n",
       "<style scoped>\n",
       "    .dataframe tbody tr th:only-of-type {\n",
       "        vertical-align: middle;\n",
       "    }\n",
       "\n",
       "    .dataframe tbody tr th {\n",
       "        vertical-align: top;\n",
       "    }\n",
       "\n",
       "    .dataframe thead th {\n",
       "        text-align: right;\n",
       "    }\n",
       "</style>\n",
       "<table border=\"1\" class=\"dataframe\">\n",
       "  <thead>\n",
       "    <tr style=\"text-align: right;\">\n",
       "      <th></th>\n",
       "      <th>director_name</th>\n",
       "      <th>actor_1_name</th>\n",
       "      <th>actor_2_name</th>\n",
       "      <th>actor_3_name</th>\n",
       "      <th>genres</th>\n",
       "      <th>movie_title</th>\n",
       "      <th>comb</th>\n",
       "    </tr>\n",
       "  </thead>\n",
       "  <tbody>\n",
       "    <tr>\n",
       "      <th>0</th>\n",
       "      <td>James Cameron</td>\n",
       "      <td>CCH Pounder</td>\n",
       "      <td>Joel David Moore</td>\n",
       "      <td>Wes Studi</td>\n",
       "      <td>Action Adventure Fantasy Sci-Fi</td>\n",
       "      <td>avatar</td>\n",
       "      <td>CCH Pounder Joel David Moore Wes Studi James C...</td>\n",
       "    </tr>\n",
       "    <tr>\n",
       "      <th>1</th>\n",
       "      <td>Gore Verbinski</td>\n",
       "      <td>Johnny Depp</td>\n",
       "      <td>Orlando Bloom</td>\n",
       "      <td>Jack Davenport</td>\n",
       "      <td>Action Adventure Fantasy</td>\n",
       "      <td>pirates of the caribbean: at world's end</td>\n",
       "      <td>Johnny Depp Orlando Bloom Jack Davenport Gore ...</td>\n",
       "    </tr>\n",
       "    <tr>\n",
       "      <th>2</th>\n",
       "      <td>Sam Mendes</td>\n",
       "      <td>Christoph Waltz</td>\n",
       "      <td>Rory Kinnear</td>\n",
       "      <td>Stephanie Sigman</td>\n",
       "      <td>Action Adventure Thriller</td>\n",
       "      <td>spectre</td>\n",
       "      <td>Christoph Waltz Rory Kinnear Stephanie Sigman ...</td>\n",
       "    </tr>\n",
       "    <tr>\n",
       "      <th>3</th>\n",
       "      <td>Christopher Nolan</td>\n",
       "      <td>Tom Hardy</td>\n",
       "      <td>Christian Bale</td>\n",
       "      <td>Joseph Gordon-Levitt</td>\n",
       "      <td>Action Thriller</td>\n",
       "      <td>the dark knight rises</td>\n",
       "      <td>Tom Hardy Christian Bale Joseph Gordon-Levitt ...</td>\n",
       "    </tr>\n",
       "    <tr>\n",
       "      <th>4</th>\n",
       "      <td>Doug Walker</td>\n",
       "      <td>Doug Walker</td>\n",
       "      <td>Rob Walker</td>\n",
       "      <td>unknown</td>\n",
       "      <td>Documentary</td>\n",
       "      <td>star wars: episode vii - the force awakens    ...</td>\n",
       "      <td>Doug Walker Rob Walker unknown Doug Walker Doc...</td>\n",
       "    </tr>\n",
       "  </tbody>\n",
       "</table>\n",
       "</div>"
      ],
      "text/plain": [
       "       director_name     actor_1_name      actor_2_name          actor_3_name  \\\n",
       "0      James Cameron      CCH Pounder  Joel David Moore             Wes Studi   \n",
       "1     Gore Verbinski      Johnny Depp     Orlando Bloom        Jack Davenport   \n",
       "2         Sam Mendes  Christoph Waltz      Rory Kinnear      Stephanie Sigman   \n",
       "3  Christopher Nolan        Tom Hardy    Christian Bale  Joseph Gordon-Levitt   \n",
       "4        Doug Walker      Doug Walker        Rob Walker               unknown   \n",
       "\n",
       "                            genres  \\\n",
       "0  Action Adventure Fantasy Sci-Fi   \n",
       "1         Action Adventure Fantasy   \n",
       "2        Action Adventure Thriller   \n",
       "3                  Action Thriller   \n",
       "4                      Documentary   \n",
       "\n",
       "                                         movie_title  \\\n",
       "0                                             avatar   \n",
       "1           pirates of the caribbean: at world's end   \n",
       "2                                            spectre   \n",
       "3                              the dark knight rises   \n",
       "4  star wars: episode vii - the force awakens    ...   \n",
       "\n",
       "                                                comb  \n",
       "0  CCH Pounder Joel David Moore Wes Studi James C...  \n",
       "1  Johnny Depp Orlando Bloom Jack Davenport Gore ...  \n",
       "2  Christoph Waltz Rory Kinnear Stephanie Sigman ...  \n",
       "3  Tom Hardy Christian Bale Joseph Gordon-Levitt ...  \n",
       "4  Doug Walker Rob Walker unknown Doug Walker Doc...  "
      ]
     },
     "execution_count": 52,
     "metadata": {},
     "output_type": "execute_result"
    }
   ],
   "source": [
    "df.head()"
   ]
  },
  {
   "cell_type": "code",
   "execution_count": 4,
   "id": "82106b20",
   "metadata": {},
   "outputs": [
    {
     "data": {
      "text/plain": [
       "True"
      ]
     },
     "execution_count": 4,
     "metadata": {},
     "output_type": "execute_result"
    }
   ],
   "source": [
    "df.isnull().values.any()"
   ]
  },
  {
   "cell_type": "code",
   "execution_count": 6,
   "id": "f62dd58e",
   "metadata": {},
   "outputs": [
    {
     "data": {
      "text/plain": [
       "director_name    0\n",
       "actor_1_name     0\n",
       "actor_2_name     0\n",
       "actor_3_name     0\n",
       "genres           1\n",
       "movie_title      0\n",
       "comb             1\n",
       "dtype: int64"
      ]
     },
     "execution_count": 6,
     "metadata": {},
     "output_type": "execute_result"
    }
   ],
   "source": [
    "df.isnull().sum()"
   ]
  },
  {
   "cell_type": "code",
   "execution_count": 9,
   "id": "2cfd6431",
   "metadata": {},
   "outputs": [],
   "source": [
    "df['genres'] = df['genres'].replace(np.nan, 'unknown')\n",
    "df['comb'] = df['comb'].replace(np.nan, 'unknown')"
   ]
  },
  {
   "cell_type": "code",
   "execution_count": 10,
   "id": "15a5551d",
   "metadata": {},
   "outputs": [
    {
     "data": {
      "text/plain": [
       "director_name    0\n",
       "actor_1_name     0\n",
       "actor_2_name     0\n",
       "actor_3_name     0\n",
       "genres           0\n",
       "movie_title      0\n",
       "comb             0\n",
       "dtype: int64"
      ]
     },
     "execution_count": 10,
     "metadata": {},
     "output_type": "execute_result"
    }
   ],
   "source": [
    "df.isnull().sum()"
   ]
  },
  {
   "cell_type": "code",
   "execution_count": 11,
   "id": "3e651087",
   "metadata": {},
   "outputs": [
    {
     "data": {
      "text/plain": [
       "False"
      ]
     },
     "execution_count": 11,
     "metadata": {},
     "output_type": "execute_result"
    }
   ],
   "source": [
    "df.isnull().values.any()"
   ]
  },
  {
   "cell_type": "code",
   "execution_count": 55,
   "id": "068be43a",
   "metadata": {},
   "outputs": [
    {
     "data": {
      "text/html": [
       "<div>\n",
       "<style scoped>\n",
       "    .dataframe tbody tr th:only-of-type {\n",
       "        vertical-align: middle;\n",
       "    }\n",
       "\n",
       "    .dataframe tbody tr th {\n",
       "        vertical-align: top;\n",
       "    }\n",
       "\n",
       "    .dataframe thead th {\n",
       "        text-align: right;\n",
       "    }\n",
       "</style>\n",
       "<table border=\"1\" class=\"dataframe\">\n",
       "  <thead>\n",
       "    <tr style=\"text-align: right;\">\n",
       "      <th></th>\n",
       "      <th>director_name</th>\n",
       "      <th>actor_1_name</th>\n",
       "      <th>actor_2_name</th>\n",
       "      <th>actor_3_name</th>\n",
       "      <th>genres</th>\n",
       "      <th>movie_title</th>\n",
       "      <th>comb</th>\n",
       "    </tr>\n",
       "  </thead>\n",
       "  <tbody>\n",
       "    <tr>\n",
       "      <th>6285</th>\n",
       "      <td>Garth Jennings</td>\n",
       "      <td>Matthew McConaughey</td>\n",
       "      <td>Reese Witherspoon</td>\n",
       "      <td>Scarlett Johansson</td>\n",
       "      <td>Family Comedy Animation Drama Music</td>\n",
       "      <td>sing 2</td>\n",
       "      <td>Matthew McConaughey Reese Witherspoon Scarlett...</td>\n",
       "    </tr>\n",
       "    <tr>\n",
       "      <th>6286</th>\n",
       "      <td>Matthew Vaughn</td>\n",
       "      <td>Ralph Fiennes</td>\n",
       "      <td>Gemma Arterton</td>\n",
       "      <td>Rhys Ifans</td>\n",
       "      <td>War Action Thriller Adventure</td>\n",
       "      <td>the king's man</td>\n",
       "      <td>Ralph Fiennes Gemma Arterton Rhys Ifans Matthe...</td>\n",
       "    </tr>\n",
       "    <tr>\n",
       "      <th>6287</th>\n",
       "      <td>Joel Coen</td>\n",
       "      <td>Denzel Washington</td>\n",
       "      <td>Frances McDormand</td>\n",
       "      <td>Bertie Carvel</td>\n",
       "      <td>Drama War</td>\n",
       "      <td>the tragedy of macbeth</td>\n",
       "      <td>Denzel Washington Frances McDormand Bertie Car...</td>\n",
       "    </tr>\n",
       "    <tr>\n",
       "      <th>6288</th>\n",
       "      <td>Denzel Washington</td>\n",
       "      <td>Michael B. Jordan</td>\n",
       "      <td>Chanté Adams</td>\n",
       "      <td>unknown</td>\n",
       "      <td>Drama Comedy</td>\n",
       "      <td>a journal for jordan</td>\n",
       "      <td>Michael B. Jordan Chanté Adams unknown Denzel ...</td>\n",
       "    </tr>\n",
       "    <tr>\n",
       "      <th>6289</th>\n",
       "      <td>Erwin brothers</td>\n",
       "      <td>Zachary Levi</td>\n",
       "      <td>David Aaron Cohen</td>\n",
       "      <td>Jon Gunn (screenplay); Zachary Levi</td>\n",
       "      <td>Drama</td>\n",
       "      <td>american underdog</td>\n",
       "      <td>Zachary Levi David Aaron Cohen Jon Gunn (scree...</td>\n",
       "    </tr>\n",
       "  </tbody>\n",
       "</table>\n",
       "</div>"
      ],
      "text/plain": [
       "          director_name         actor_1_name       actor_2_name  \\\n",
       "6285     Garth Jennings  Matthew McConaughey  Reese Witherspoon   \n",
       "6286     Matthew Vaughn        Ralph Fiennes     Gemma Arterton   \n",
       "6287          Joel Coen    Denzel Washington  Frances McDormand   \n",
       "6288  Denzel Washington    Michael B. Jordan       Chanté Adams   \n",
       "6289     Erwin brothers         Zachary Levi  David Aaron Cohen   \n",
       "\n",
       "                             actor_3_name  \\\n",
       "6285                   Scarlett Johansson   \n",
       "6286                           Rhys Ifans   \n",
       "6287                        Bertie Carvel   \n",
       "6288                              unknown   \n",
       "6289  Jon Gunn (screenplay); Zachary Levi   \n",
       "\n",
       "                                   genres             movie_title  \\\n",
       "6285  Family Comedy Animation Drama Music                  sing 2   \n",
       "6286        War Action Thriller Adventure          the king's man   \n",
       "6287                            Drama War  the tragedy of macbeth   \n",
       "6288                         Drama Comedy    a journal for jordan   \n",
       "6289                                Drama       american underdog   \n",
       "\n",
       "                                                   comb  \n",
       "6285  Matthew McConaughey Reese Witherspoon Scarlett...  \n",
       "6286  Ralph Fiennes Gemma Arterton Rhys Ifans Matthe...  \n",
       "6287  Denzel Washington Frances McDormand Bertie Car...  \n",
       "6288  Michael B. Jordan Chanté Adams unknown Denzel ...  \n",
       "6289  Zachary Levi David Aaron Cohen Jon Gunn (scree...  "
      ]
     },
     "execution_count": 55,
     "metadata": {},
     "output_type": "execute_result"
    }
   ],
   "source": [
    "df.tail()"
   ]
  },
  {
   "cell_type": "code",
   "execution_count": 54,
   "id": "fbe2bd38",
   "metadata": {},
   "outputs": [],
   "source": [
    "df.drop(index = df.index[-1],axis =0,inplace= True)"
   ]
  },
  {
   "cell_type": "code",
   "execution_count": 56,
   "id": "8a478de1",
   "metadata": {},
   "outputs": [],
   "source": [
    "from tmdbv3api import TMDb\n",
    "from tmdbv3api import Movie\n",
    "tmdb = TMDb()\n",
    "import requests"
   ]
  },
  {
   "cell_type": "code",
   "execution_count": 71,
   "id": "a0f17bed",
   "metadata": {},
   "outputs": [
    {
     "name": "stdout",
     "output_type": "stream",
     "text": [
      "RomanceDrama\n"
     ]
    }
   ],
   "source": [
    "tmdb_movie = Movie()\n",
    "tmdb.api_key = '6c2459e44e0b6c41de8d3c8c0a6e8d80'\n",
    "genress = []\n",
    "genre_str=''\n",
    "result = tmdb_movie.search('maine pyar kiya')\n",
    "movie_id = result[0].id\n",
    "response = requests.get('https://api.themoviedb.org/3/movie/{}?api_key={}'.format(movie_id,tmdb.api_key))\n",
    "data_json = response.json()\n",
    "if data_json['genres']:\n",
    "    for i in range(0,len(data_json['genres'])):\n",
    "        genress.append(data_json['genres'][i]['name'])\n",
    "    genre_str=genre_str.join(genress)\n",
    "\n",
    "print(genre_str)\n",
    "            \n",
    "            \n",
    "            \n",
    "            \n",
    "            \n",
    "            #df2 = pd.DataFrame({'movie_title': [m]  ,'actor_1_name': [actorsname[0]], 'actor_2_name': [actorsname[1]], 'actor_3_name': [actorsname[2]],'director_name':[directorsname[0]],'genres':[ genre_str]})\n",
    "            \n",
    "            "
   ]
  },
  {
   "cell_type": "code",
   "execution_count": 72,
   "id": "134be9ea",
   "metadata": {},
   "outputs": [
    {
     "name": "stdout",
     "output_type": "stream",
     "text": [
      "Salman Khan\n",
      "Bhagyashree\n",
      "Alok Nath\n"
     ]
    }
   ],
   "source": [
    "response1 = requests.get(\"https://api.themoviedb.org/3/movie/{}/credits?api_key={}&language=en-US\".format(movie_id,tmdb.api_key))\n",
    "actorsname =[]\n",
    "data_json = response1.json()\n",
    "if data_json['cast']:\n",
    "    for i in range(0,3):\n",
    "        actorsname.append(data_json['cast'][i]['name'])\n",
    "else:\n",
    "    for i in range(0,3):\n",
    "        actorsname.append('unknown')\n",
    "print(actorsname[0])\n",
    "print(actorsname[1])\n",
    "print(actorsname[2])"
   ]
  },
  {
   "cell_type": "code",
   "execution_count": 73,
   "id": "d6169ca2",
   "metadata": {},
   "outputs": [
    {
     "name": "stdout",
     "output_type": "stream",
     "text": [
      "Sooraj Barjatya\n"
     ]
    }
   ],
   "source": [
    "response2 = requests.get(\"https://api.themoviedb.org/3/movie/{}/credits?api_key={}&language=en-US\".format(movie_id,tmdb.api_key))\n",
    "directorsname =[]\n",
    "data_json = response2.json()\n",
    "for i in range(0,len(data_json['crew'])):\n",
    "    if data_json['crew'][i][\"job\"]=='Director':\n",
    "        directorsname.append(data_json['crew'][i]['name'])\n",
    "if len(directorsname)==0:\n",
    "    directorsname.append('unknown')\n",
    "print(directorsname[0])"
   ]
  },
  {
   "cell_type": "code",
   "execution_count": 74,
   "id": "9ec976d9",
   "metadata": {},
   "outputs": [],
   "source": [
    "comb = actorsname[0] + ' ' + actorsname[1] + ' '+ actorsname[2] + ' '+ directorsname[0] +' ' + genre_str\n",
    "            \n",
    "df.loc[len(df.index)] = [directorsname[0],actorsname[0],actorsname[1],actorsname[2],genre_str,'sooryavanshi',comb]"
   ]
  },
  {
   "cell_type": "code",
   "execution_count": 80,
   "id": "9b8db692",
   "metadata": {},
   "outputs": [
    {
     "data": {
      "text/html": [
       "<div>\n",
       "<style scoped>\n",
       "    .dataframe tbody tr th:only-of-type {\n",
       "        vertical-align: middle;\n",
       "    }\n",
       "\n",
       "    .dataframe tbody tr th {\n",
       "        vertical-align: top;\n",
       "    }\n",
       "\n",
       "    .dataframe thead th {\n",
       "        text-align: right;\n",
       "    }\n",
       "</style>\n",
       "<table border=\"1\" class=\"dataframe\">\n",
       "  <thead>\n",
       "    <tr style=\"text-align: right;\">\n",
       "      <th></th>\n",
       "      <th>director_name</th>\n",
       "      <th>actor_1_name</th>\n",
       "      <th>actor_2_name</th>\n",
       "      <th>actor_3_name</th>\n",
       "      <th>genres</th>\n",
       "      <th>movie_title</th>\n",
       "      <th>comb</th>\n",
       "    </tr>\n",
       "  </thead>\n",
       "  <tbody>\n",
       "    <tr>\n",
       "      <th>6288</th>\n",
       "      <td>Denzel Washington</td>\n",
       "      <td>Michael B. Jordan</td>\n",
       "      <td>Chanté Adams</td>\n",
       "      <td>unknown</td>\n",
       "      <td>Drama Comedy</td>\n",
       "      <td>a journal for jordan</td>\n",
       "      <td>Michael B. Jordan Chanté Adams unknown Denzel ...</td>\n",
       "    </tr>\n",
       "    <tr>\n",
       "      <th>6289</th>\n",
       "      <td>Erwin brothers</td>\n",
       "      <td>Zachary Levi</td>\n",
       "      <td>David Aaron Cohen</td>\n",
       "      <td>Jon Gunn (screenplay); Zachary Levi</td>\n",
       "      <td>Drama</td>\n",
       "      <td>american underdog</td>\n",
       "      <td>Zachary Levi David Aaron Cohen Jon Gunn (scree...</td>\n",
       "    </tr>\n",
       "    <tr>\n",
       "      <th>6290</th>\n",
       "      <td>Rohit Shetty</td>\n",
       "      <td>Akshay Kumar</td>\n",
       "      <td>Katrina Kaif</td>\n",
       "      <td>Ajay Devgn</td>\n",
       "      <td>ActionDramaCrime</td>\n",
       "      <td>sooryavanshi</td>\n",
       "      <td>Akshay Kumar Katrina Kaif Ajay Devgn Rohit She...</td>\n",
       "    </tr>\n",
       "    <tr>\n",
       "      <th>6291</th>\n",
       "      <td>Imtiaz Ali</td>\n",
       "      <td>Shahid Kapoor</td>\n",
       "      <td>Kareena Kapoor Khan</td>\n",
       "      <td>Tarun Arora</td>\n",
       "      <td>DramaComedyRomance</td>\n",
       "      <td>sooryavanshi</td>\n",
       "      <td>Shahid Kapoor Kareena Kapoor Khan Tarun Arora ...</td>\n",
       "    </tr>\n",
       "    <tr>\n",
       "      <th>6292</th>\n",
       "      <td>Sooraj Barjatya</td>\n",
       "      <td>Salman Khan</td>\n",
       "      <td>Bhagyashree</td>\n",
       "      <td>Alok Nath</td>\n",
       "      <td>RomanceDrama</td>\n",
       "      <td>sooryavanshi</td>\n",
       "      <td>Salman Khan Bhagyashree Alok Nath Sooraj Barja...</td>\n",
       "    </tr>\n",
       "  </tbody>\n",
       "</table>\n",
       "</div>"
      ],
      "text/plain": [
       "          director_name       actor_1_name         actor_2_name  \\\n",
       "6288  Denzel Washington  Michael B. Jordan         Chanté Adams   \n",
       "6289     Erwin brothers       Zachary Levi    David Aaron Cohen   \n",
       "6290       Rohit Shetty       Akshay Kumar         Katrina Kaif   \n",
       "6291         Imtiaz Ali      Shahid Kapoor  Kareena Kapoor Khan   \n",
       "6292    Sooraj Barjatya        Salman Khan          Bhagyashree   \n",
       "\n",
       "                             actor_3_name              genres  \\\n",
       "6288                              unknown        Drama Comedy   \n",
       "6289  Jon Gunn (screenplay); Zachary Levi               Drama   \n",
       "6290                           Ajay Devgn    ActionDramaCrime   \n",
       "6291                          Tarun Arora  DramaComedyRomance   \n",
       "6292                            Alok Nath        RomanceDrama   \n",
       "\n",
       "               movie_title                                               comb  \n",
       "6288  a journal for jordan  Michael B. Jordan Chanté Adams unknown Denzel ...  \n",
       "6289     american underdog  Zachary Levi David Aaron Cohen Jon Gunn (scree...  \n",
       "6290          sooryavanshi  Akshay Kumar Katrina Kaif Ajay Devgn Rohit She...  \n",
       "6291          sooryavanshi  Shahid Kapoor Kareena Kapoor Khan Tarun Arora ...  \n",
       "6292          sooryavanshi  Salman Khan Bhagyashree Alok Nath Sooraj Barja...  "
      ]
     },
     "execution_count": 80,
     "metadata": {},
     "output_type": "execute_result"
    }
   ],
   "source": [
    "df.tail()"
   ]
  },
  {
   "cell_type": "code",
   "execution_count": 79,
   "id": "887989cd",
   "metadata": {},
   "outputs": [],
   "source": [
    "df.to_csv('main_data.csv',index=False)"
   ]
  },
  {
   "cell_type": "code",
   "execution_count": null,
   "id": "4c30546d",
   "metadata": {},
   "outputs": [],
   "source": []
  }
 ],
 "metadata": {
  "kernelspec": {
   "display_name": "Python 3",
   "language": "python",
   "name": "python3"
  },
  "language_info": {
   "codemirror_mode": {
    "name": "ipython",
    "version": 3
   },
   "file_extension": ".py",
   "mimetype": "text/x-python",
   "name": "python",
   "nbconvert_exporter": "python",
   "pygments_lexer": "ipython3",
   "version": "3.8.8"
  }
 },
 "nbformat": 4,
 "nbformat_minor": 5
}
